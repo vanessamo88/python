{
  "nbformat": 4,
  "nbformat_minor": 0,
  "metadata": {
    "colab": {
      "provenance": [],
      "authorship_tag": "ABX9TyN2bYuMtvk8Qek1jTv0k3Rd",
      "include_colab_link": true
    },
    "kernelspec": {
      "name": "python3",
      "display_name": "Python 3"
    },
    "language_info": {
      "name": "python"
    }
  },
  "cells": [
    {
      "cell_type": "markdown",
      "metadata": {
        "id": "view-in-github",
        "colab_type": "text"
      },
      "source": [
        "<a href=\"https://colab.research.google.com/github/vanessamo88/python/blob/main/Calculo_ticket_medio.ipynb\" target=\"_parent\"><img src=\"https://colab.research.google.com/assets/colab-badge.svg\" alt=\"Open In Colab\"/></a>"
      ]
    },
    {
      "cell_type": "code",
      "execution_count": 1,
      "metadata": {
        "colab": {
          "base_uri": "https://localhost:8080/"
        },
        "id": "-a-SkJZanFWr",
        "outputId": "0195be10-927f-495c-fd21-ae22852e4d3e"
      },
      "outputs": [
        {
          "output_type": "stream",
          "name": "stdout",
          "text": [
            "(A) =  961.56\n",
            "(B) =  7.000000000000001\n",
            "(C) =  3075.6240000000003\n"
          ]
        }
      ],
      "source": [
        "# 19/01\n",
        "qtd_total_vendas_1 = 3\n",
        "ticket_medio_1 = 320.52\n",
        "\n",
        "# 20/01\n",
        "valor_total_vendas_2 = 834.47\n",
        "ticket_medio_2 = 119.21\n",
        "\n",
        "# 23/01\n",
        "valor_total_vendas_3 = 15378.12\n",
        "qtd_total_vendas_3 = 5\n",
        "\n",
        "# Calcule aqui:\n",
        "A = valor_total_vendas_1 = ticket_medio_1*qtd_total_vendas_1\n",
        "B = qtd_total_vendas_2 = valor_total_vendas_2/ticket_medio_2\n",
        "C = ticket_medio_3 = valor_total_vendas_3/qtd_total_vendas_3\n",
        "\n",
        "# Print\n",
        "print('(A) = ', A)\n",
        "print('(B) = ', B)\n",
        "print('(C) = ', C)\n"
      ]
    }
  ]
}