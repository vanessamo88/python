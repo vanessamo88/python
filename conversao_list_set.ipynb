{
  "nbformat": 4,
  "nbformat_minor": 0,
  "metadata": {
    "colab": {
      "provenance": [],
      "authorship_tag": "ABX9TyMJrnXUqO+0cIZrrMYVFI1W",
      "include_colab_link": true
    },
    "kernelspec": {
      "name": "python3",
      "display_name": "Python 3"
    },
    "language_info": {
      "name": "python"
    }
  },
  "cells": [
    {
      "cell_type": "markdown",
      "metadata": {
        "id": "view-in-github",
        "colab_type": "text"
      },
      "source": [
        "<a href=\"https://colab.research.google.com/github/vanessamo88/python/blob/main/conversao_list_set.ipynb\" target=\"_parent\"><img src=\"https://colab.research.google.com/assets/colab-badge.svg\" alt=\"Open In Colab\"/></a>"
      ]
    },
    {
      "cell_type": "code",
      "execution_count": 1,
      "metadata": {
        "colab": {
          "base_uri": "https://localhost:8080/"
        },
        "id": "f1_Ze9MIqKh-",
        "outputId": "bc491b9b-a627-468d-eda8-073db2ef4e44"
      },
      "outputs": [
        {
          "output_type": "stream",
          "name": "stdout",
          "text": [
            "{'12 Angry Men', 'The Dark Knight', 'The Godfather', 'The Godfather Part II', 'The Shawshank Redemption', 'The Lord of the Rings: The Fellowship of the Ring', 'Pulp Fiction', 'The Lord of the Rings: The Return of the King', \"Schindler's List\", 'The Good, the Bad and the Ugly'}\n",
            "<class 'set'>\n",
            "['12 Angry Men', 'The Dark Knight', 'The Godfather', 'The Godfather Part II', 'The Shawshank Redemption', 'The Lord of the Rings: The Fellowship of the Ring', 'Pulp Fiction', 'The Lord of the Rings: The Return of the King', \"Schindler's List\", 'The Good, the Bad and the Ugly']\n",
            "<class 'list'>\n"
          ]
        }
      ],
      "source": [
        "filmes = [\n",
        "    'The Shawshank Redemption',\n",
        "    'The Godfather',\n",
        "    'The Dark Knight',\n",
        "    'The Godfather Part II',\n",
        "    'The Godfather',\n",
        "    '12 Angry Men',\n",
        "    'Schindler\\'s List',\n",
        "    'The Lord of the Rings: The Return of the King',\n",
        "    'Pulp Fiction',\n",
        "    'The Shawshank Redemption',\n",
        "    'The Lord of the Rings: The Fellowship of the Ring',\n",
        "    'The Good, the Bad and the Ugly',\n",
        "    'Pulp Fiction'\n",
        "]\n",
        "\n",
        "filmes = set(filmes)\n",
        "\n",
        "print(filmes)\n",
        "print(type(filmes))\n",
        "\n",
        "filmes = list(set(filmes))\n",
        "\n",
        "print(filmes)\n",
        "print(type(filmes))"
      ]
    }
  ]
}