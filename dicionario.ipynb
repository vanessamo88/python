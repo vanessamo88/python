{
  "nbformat": 4,
  "nbformat_minor": 0,
  "metadata": {
    "colab": {
      "provenance": [],
      "authorship_tag": "ABX9TyM8vM3s2R1nFZVpnOtPModh",
      "include_colab_link": true
    },
    "kernelspec": {
      "name": "python3",
      "display_name": "Python 3"
    },
    "language_info": {
      "name": "python"
    }
  },
  "cells": [
    {
      "cell_type": "markdown",
      "metadata": {
        "id": "view-in-github",
        "colab_type": "text"
      },
      "source": [
        "<a href=\"https://colab.research.google.com/github/vanessamo88/python/blob/main/dicionario.ipynb\" target=\"_parent\"><img src=\"https://colab.research.google.com/assets/colab-badge.svg\" alt=\"Open In Colab\"/></a>"
      ]
    },
    {
      "cell_type": "code",
      "execution_count": 2,
      "metadata": {
        "colab": {
          "base_uri": "https://localhost:8080/"
        },
        "id": "VCbZSOrPxFkj",
        "outputId": "7c3c1aac-257a-448b-9b5c-887b737378f3"
      },
      "outputs": [
        {
          "output_type": "stream",
          "name": "stdout",
          "text": [
            "['Um sonho de liberdade', 'O poderoso chefão', 'Batman: o cavaleiro das trevas', 'O poderoso chefão 2', '12 homens e uma sentença', 'A lista de Schindler', 'O Senhor dos anéis: O retorno do rei', 'Pulp fiction: Tempo de violência', 'O Senhor dos aneis: A sociedade do anel', 'Três homens em conflito']\n",
            "<class 'list'>\n",
            "['Um sonho de liberdade', 'O poderoso chefão', 'Batman: o cavaleiro das trevas', 'O poderoso chefão 2', '12 homens e uma sentença', 'A lista de Schindler', 'O Senhor dos anéis: O retorno do rei', 'Pulp fiction: Tempo de violência', 'O Senhor dos aneis: A sociedade do anel', 'Três homens em conflito']\n",
            "<class 'list'>\n",
            "[{'nome': 'Um sonho de liberdade', 'ano': 1994, 'sinopse': 'Dois homens presos se reúnem ao longo de vários anos, encontrando consolo e eventual redenção através de atos de decência comum.'}, {'nome': 'O poderoso chefão', 'ano': 1972, 'sinopse': 'O patriarca idoso de uma dinastia do crime organizado transfere o controle de seu império clandestino para seu filho relutante.'}, {'nome': 'Batman: o cavaleiro das trevas', 'ano': 2008, 'sinopse': 'Agora com a ajuda do tenente Jim Gordon e do promotor público Harvey Dent, Batman tem tudo para banir o crime de Gotham City de uma vez por todas. Mas em breve, os três serão vítimas do Coringa, que pretende lançar Gotham em uma anarquia.'}, {'nome': 'O poderoso chefão 2', 'ano': 1974, 'sinopse': 'Em 1950, Michael Corleone, agora à frente da família, tenta expandir o negócio do crime a Las Vegas, Los Angeles e Cuba. Paralelamente, é revelada a história de Vito Corleone, e de como saiu da Sicília e chegou a Nova Iorque.'}, {'nome': '12 homens e uma sentença', 'ano': 1954, 'sinopse': 'O julgamento de um assassinato em Nova Iorque é frustrado por um único membro, cujo ceticismo força o júri a considerar cuidadosamente as evidências antes de dar o veredito.'}, {'nome': 'A lista de Schindler', 'ano': 1993, 'sinopse': 'Na Polônia ocupada pelos alemães durante a Segunda Guerra Mundial, o industrial Oskar Schindler começa a ser preocupar com seus trabalhadores judeus depois de testemunhar sua perseguição pelos nazistas.'}, {'nome': 'O Senhor dos anéis: O retorno do rei', 'ano': 2003, 'sinopse': 'Gandalf e Aragorn lideram o Mundo dos Homens contra o exército de Sauron para desviar o olhar de Frodo e Sam quando eles se aproximam á Montanha da Perdição com o Um Anel.'}, {'nome': 'Pulp fiction: Tempo de violência', 'ano': 1994, 'sinopse': 'As vidas de dois assassinos da máfia, um boxeador, um gângster e sua esposa, e um par de bandidos se entrelaçam em quatro histórias de violência e redenção.'}, {'nome': 'O Senhor dos aneis: A sociedade do anel', 'ano': 2001, 'sinopse': 'Um manso hobbit do Condado e oito companheiros partem em uma jornada para destruir o poderoso Um Anel e salvar a Terra-média das Trevas.'}, {'nome': 'Três homens em conflito', 'ano': 1966, 'sinopse': 'Um impostor se junta com dois homens para encontrar fortuna num remoto cemitério.'}]\n"
          ]
        }
      ],
      "source": [
        "filmes = ['Um sonho de liberdade', 'O poderoso chefão', 'Batman: o cavaleiro das trevas', 'O poderoso chefão 2', '12 homens e uma sentença', 'A lista de Schindler', 'O Senhor dos anéis: O retorno do rei', 'Pulp fiction: Tempo de violência', 'O Senhor dos aneis: A sociedade do anel', 'Três homens em conflito']\n",
        "\n",
        "print(filmes)\n",
        "print(type(filmes))\n",
        "\n",
        "filmes = list(filmes)\n",
        "\n",
        "print(filmes)\n",
        "print(type(filmes))\n",
        "\n",
        "filmes = [\n",
        "    {\"nome\":\"Um sonho de liberdade\", \"ano\":1994, \"sinopse\":\"Dois homens presos se reúnem ao longo de vários anos, encontrando consolo e eventual redenção através de atos de decência comum.\"},\n",
        "\n",
        "    {\"nome\":\"O poderoso chefão\", \"ano\" :1972, \"sinopse\": \"O patriarca idoso de uma dinastia do crime organizado transfere o controle de seu império clandestino para seu filho relutante.\"},\n",
        "\n",
        "    {\"nome\":\"Batman: o cavaleiro das trevas\", \"ano\" :2008, \"sinopse\": \"Agora com a ajuda do tenente Jim Gordon e do promotor público Harvey Dent, Batman tem tudo para banir o crime de Gotham City de uma vez por todas. Mas em breve, os três serão vítimas do Coringa, que pretende lançar Gotham em uma anarquia.\"},\n",
        "\n",
        "    {\"nome\":\"O poderoso chefão 2\", \"ano\" :1974, \"sinopse\": \"Em 1950, Michael Corleone, agora à frente da família, tenta expandir o negócio do crime a Las Vegas, Los Angeles e Cuba. Paralelamente, é revelada a história de Vito Corleone, e de como saiu da Sicília e chegou a Nova Iorque.\"},\n",
        "\n",
        "    {\"nome\":\"12 homens e uma sentença\", \"ano\" :1954, \"sinopse\": \"O julgamento de um assassinato em Nova Iorque é frustrado por um único membro, cujo ceticismo força o júri a considerar cuidadosamente as evidências antes de dar o veredito.\"},\n",
        "\n",
        "    {\"nome\":\"A lista de Schindler\", \"ano\" :1993, \"sinopse\": \"Na Polônia ocupada pelos alemães durante a Segunda Guerra Mundial, o industrial Oskar Schindler começa a ser preocupar com seus trabalhadores judeus depois de testemunhar sua perseguição pelos nazistas.\"},\n",
        "\n",
        "    {\"nome\":\"O Senhor dos anéis: O retorno do rei\", \"ano\" :2003, \"sinopse\": \"Gandalf e Aragorn lideram o Mundo dos Homens contra o exército de Sauron para desviar o olhar de Frodo e Sam quando eles se aproximam á Montanha da Perdição com o Um Anel.\"},\n",
        "\n",
        "    {\"nome\":\"Pulp fiction: Tempo de violência\", \"ano\" :1994, \"sinopse\": \"As vidas de dois assassinos da máfia, um boxeador, um gângster e sua esposa, e um par de bandidos se entrelaçam em quatro histórias de violência e redenção.\"},\n",
        "\n",
        "    {\"nome\":\"O Senhor dos aneis: A sociedade do anel\", \"ano\" :2001, \"sinopse\": \"Um manso hobbit do Condado e oito companheiros partem em uma jornada para destruir o poderoso Um Anel e salvar a Terra-média das Trevas.\"},\n",
        "\n",
        "    {\"nome\":\"Três homens em conflito\", \"ano\" :1966, \"sinopse\": \"Um impostor se junta com dois homens para encontrar fortuna num remoto cemitério.\"}\n",
        "\n",
        "]\n",
        "\n",
        "print(filmes)"
      ]
    }
  ]
}