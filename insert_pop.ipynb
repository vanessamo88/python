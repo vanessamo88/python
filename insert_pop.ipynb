{
  "nbformat": 4,
  "nbformat_minor": 0,
  "metadata": {
    "colab": {
      "provenance": [],
      "authorship_tag": "ABX9TyPmymjMcwjBPwXosNrvjGLa",
      "include_colab_link": true
    },
    "kernelspec": {
      "name": "python3",
      "display_name": "Python 3"
    },
    "language_info": {
      "name": "python"
    }
  },
  "cells": [
    {
      "cell_type": "markdown",
      "metadata": {
        "id": "view-in-github",
        "colab_type": "text"
      },
      "source": [
        "<a href=\"https://colab.research.google.com/github/vanessamo88/python/blob/main/insert_pop.ipynb\" target=\"_parent\"><img src=\"https://colab.research.google.com/assets/colab-badge.svg\" alt=\"Open In Colab\"/></a>"
      ]
    },
    {
      "cell_type": "code",
      "execution_count": 1,
      "metadata": {
        "colab": {
          "base_uri": "https://localhost:8080/"
        },
        "id": "IJ55jjdlp4tT",
        "outputId": "3a2dbd66-ef3d-4967-cc36-6f4cca94c607"
      },
      "outputs": [
        {
          "output_type": "stream",
          "name": "stdout",
          "text": [
            "['Um sonho de liberdade', 'O poderoso chefão', 'Batman: o cavaleiro das trevas', 'O poderoso chefão 2', '12 homens e uma sentença', 'A lista de Schindler', 'O Senhor dos anéis: O retorno do rei', 'Pulp fiction: Tempo de violência', 'O Senhor dos aneis: A sociedade do anel', 'Três homens em conflito']\n",
            "['O poderoso chefão', 'Um sonho de liberdade', 'Batman: o cavaleiro das trevas', 'O poderoso chefão 2', '12 homens e uma sentença', 'A lista de Schindler', 'O Senhor dos anéis: O retorno do rei', 'Pulp fiction: Tempo de violência', 'O Senhor dos aneis: A sociedade do anel', 'Três homens em conflito']\n"
          ]
        }
      ],
      "source": [
        "filmes = ['Um sonho de liberdade', 'O poderoso chefão', 'Batman: o cavaleiro das trevas', 'O poderoso chefão 2', '12 homens e uma sentença', 'A lista de Schindler', 'O Senhor dos anéis: O retorno do rei', 'Pulp fiction: Tempo de violência', 'O Senhor dos aneis: A sociedade do anel', 'Três homens em conflito']\n",
        "\n",
        "print(filmes)\n",
        "\n",
        "filmes = ['Um sonho de liberdade', 'O poderoso chefão', 'Batman: o cavaleiro das trevas', 'O poderoso chefão 2', '12 homens e uma sentença', 'A lista de Schindler', 'O Senhor dos anéis: O retorno do rei', 'Pulp fiction: Tempo de violência', 'O Senhor dos aneis: A sociedade do anel', 'Três homens em conflito']\n",
        "\n",
        "excluir_primeiro_filme = filmes.pop(0)\n",
        "excluir_segundo_filme = filmes.pop(0)\n",
        "\n",
        "incluir_primeiro_filme = filmes.insert(0,'O poderoso chefão')\n",
        "incluir_segundo_filme = filmes.insert(1,'Um sonho de liberdade')\n",
        "\n",
        "print(filmes)\n"
      ]
    }
  ]
}