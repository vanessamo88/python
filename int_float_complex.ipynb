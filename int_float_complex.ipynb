{
  "nbformat": 4,
  "nbformat_minor": 0,
  "metadata": {
    "colab": {
      "provenance": [],
      "authorship_tag": "ABX9TyNfNHXFH9MmTPwOI7fRZfzl",
      "include_colab_link": true
    },
    "kernelspec": {
      "name": "python3",
      "display_name": "Python 3"
    },
    "language_info": {
      "name": "python"
    }
  },
  "cells": [
    {
      "cell_type": "markdown",
      "metadata": {
        "id": "view-in-github",
        "colab_type": "text"
      },
      "source": [
        "<a href=\"https://colab.research.google.com/github/vanessamo88/python/blob/main/int_float_complex.ipynb\" target=\"_parent\"><img src=\"https://colab.research.google.com/assets/colab-badge.svg\" alt=\"Open In Colab\"/></a>"
      ]
    },
    {
      "cell_type": "code",
      "execution_count": null,
      "metadata": {
        "colab": {
          "base_uri": "https://localhost:8080/"
        },
        "id": "NT7r-8X_HjEX",
        "outputId": "345f96d1-0657-46c7-8ca0-bf8ad2b49fd0"
      },
      "outputs": [
        {
          "output_type": "stream",
          "name": "stdout",
          "text": [
            "<class 'int'>\n",
            "<class 'float'>\n",
            "<class 'complex'>\n"
          ]
        }
      ],
      "source": [
        "print(type(37))\n",
        "print(type(10.1))\n",
        "print(type(5+2j))\n",
        "\n"
      ]
    },
    {
      "cell_type": "code",
      "source": [
        "qtd_itens_carrinho_compra=0\n",
        "qtd_itens_carrinho_compra+=1\n",
        "print(qtd_itens_carrinho_compra)\n",
        "\n",
        "qtd_itens_carrinho_compra+=1\n",
        "print(qtd_itens_carrinho_compra)\n",
        "\n",
        "qtd_itens_carrinho_compra-=1\n",
        "print(qtd_itens_carrinho_compra)\n",
        "\n",
        "\n",
        "\n"
      ],
      "metadata": {
        "colab": {
          "base_uri": "https://localhost:8080/"
        },
        "id": "X01w92bOLWtD",
        "outputId": "233c92bd-863c-4520-fd02-56d2f2535ca3"
      },
      "execution_count": null,
      "outputs": [
        {
          "output_type": "stream",
          "name": "stdout",
          "text": [
            "1\n",
            "2\n",
            "1\n"
          ]
        }
      ]
    },
    {
      "cell_type": "code",
      "source": [
        "preco=47\n",
        "quantidade=0.250\n",
        "\n",
        "total_a_pagar=quantidade*preco\n",
        "print(total_a_pagar)"
      ],
      "metadata": {
        "colab": {
          "base_uri": "https://localhost:8080/"
        },
        "id": "WruVBnwhNcpJ",
        "outputId": "2ab199e0-77ff-4746-8fc3-5df9ee6d9012"
      },
      "execution_count": null,
      "outputs": [
        {
          "output_type": "stream",
          "name": "stdout",
          "text": [
            "11.75\n"
          ]
        }
      ]
    }
  ]
}