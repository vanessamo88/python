{
  "nbformat": 4,
  "nbformat_minor": 0,
  "metadata": {
    "colab": {
      "provenance": [],
      "authorship_tag": "ABX9TyOvtPnuawA843nS6PIubVqK",
      "include_colab_link": true
    },
    "kernelspec": {
      "name": "python3",
      "display_name": "Python 3"
    },
    "language_info": {
      "name": "python"
    }
  },
  "cells": [
    {
      "cell_type": "markdown",
      "metadata": {
        "id": "view-in-github",
        "colab_type": "text"
      },
      "source": [
        "<a href=\"https://colab.research.google.com/github/vanessamo88/python/blob/main/strings.ipynb\" target=\"_parent\"><img src=\"https://colab.research.google.com/assets/colab-badge.svg\" alt=\"Open In Colab\"/></a>"
      ]
    },
    {
      "cell_type": "code",
      "execution_count": 1,
      "metadata": {
        "colab": {
          "base_uri": "https://localhost:8080/"
        },
        "id": "5qVOWIjfoCp3",
        "outputId": "1d0ef0db-8a06-4af5-93ea-8d6c57aedea7"
      },
      "outputs": [
        {
          "output_type": "stream",
          "name": "stdout",
          "text": [
            "Roda mundo/ roda gigante/ roda moinho/ roda pião.\n",
            "RODA MUNDO, RODA GIGANTE, RODA MOINHO, RODA PIÃO.\n",
            "31\n"
          ]
        }
      ],
      "source": [
        "cancao = 'Roda mundo, roda gigante, roda moinho, roda pião.'\n",
        "\n",
        "# Substitua todas as vírgulas por barras /\n",
        "result1 = cancao.replace(',','/')\n",
        "print(result1)\n",
        "\n",
        "# Deixe a string em maiúscula\n",
        "result2 = (cancao.upper())\n",
        "print(result2)\n",
        "\n",
        "# Encontre a posição da palavra \"moinho\" na string\n",
        "result3 = cancao.find('moinho')\n",
        "print(result3)"
      ]
    }
  ]
}