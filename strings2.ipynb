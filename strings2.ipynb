{
  "nbformat": 4,
  "nbformat_minor": 0,
  "metadata": {
    "colab": {
      "provenance": [],
      "authorship_tag": "ABX9TyPfQE8/LxJoRRgZTzYMuwkL",
      "include_colab_link": true
    },
    "kernelspec": {
      "name": "python3",
      "display_name": "Python 3"
    },
    "language_info": {
      "name": "python"
    }
  },
  "cells": [
    {
      "cell_type": "markdown",
      "metadata": {
        "id": "view-in-github",
        "colab_type": "text"
      },
      "source": [
        "<a href=\"https://colab.research.google.com/github/vanessamo88/python/blob/main/strings2.ipynb\" target=\"_parent\"><img src=\"https://colab.research.google.com/assets/colab-badge.svg\" alt=\"Open In Colab\"/></a>"
      ]
    },
    {
      "cell_type": "code",
      "execution_count": 1,
      "metadata": {
        "colab": {
          "base_uri": "https://localhost:8080/"
        },
        "id": "j6ehQ4uloyCz",
        "outputId": "1bb7316a-4208-46c8-bbda-9b4a9b8d4071"
      },
      "outputs": [
        {
          "output_type": "stream",
          "name": "stdout",
          "text": [
            "2,75%\n",
            "6\n"
          ]
        }
      ],
      "source": [
        "noticia = 'Selic vai a 2,75% e supera expectativas é a primeira alta em 6 anos.'\n",
        "\n",
        "selic = noticia[12:17]\n",
        "print(selic)\n",
        "\n",
        "ano = noticia[61:62]\n",
        "print(ano)"
      ]
    }
  ]
}